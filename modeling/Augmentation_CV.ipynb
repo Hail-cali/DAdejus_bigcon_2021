{
 "cells": [
  {
   "cell_type": "code",
   "execution_count": 64,
   "metadata": {},
   "outputs": [],
   "source": [
    "import pandas as pd\n",
    "import numpy as np\n",
    "from sklearn.model_selection import train_test_split\n",
    "from sklearn.ensemble import RandomForestRegressor\n",
    "from xgboost import XGBRegressor\n",
    "from lightgbm import LGBMRegressor\n",
    "from sklearn.metrics import mean_absolute_error, mean_squared_error\n",
    "import smogn\n",
    "\n",
    "raw_data = pd.read_csv('./baseball_train_final4.csv')\n",
    "\n",
    "model_dict = {'rf':RandomForestRegressor(),\n",
    "              'xgb':XGBRegressor(),\n",
    "              'lgbm':LGBMRegressor()}\n",
    "\n",
    "def augmentation_cv(raw_df, label, cv_iter=5, aug_num=5, model='rf'):\n",
    "    mae_scores = []\n",
    "    rmse_scores = []\n",
    "    \n",
    "    for i in range(cv_iter):\n",
    "        print(f'CV_ITER: # {i+1}')\n",
    "        \n",
    "        # Augmentation 전에 train set, val set을 분리\n",
    "        print('------Starting Data Split------')\n",
    "        X_train, X_test, y_train, y_test = train_test_split(raw_df.drop(label, axis=1), raw_df[label], test_size=0.1)\n",
    "        train_df = pd.concat([X_train, y_train], axis=1).reset_index()\n",
    "        val_df = pd.concat([X_test, y_test], axis=1).reset_index()\n",
    "        \n",
    "        # Augmentation\n",
    "        print('------Starting Data Augmentation------')\n",
    "        os_list = [smogn.smoter(train_df, y=label, k=i+2) for i in range(aug_num)]\n",
    "        aug_train = pd.concat(os_list, ignore_index=True)\n",
    "        \n",
    "        # Augmented된 데이터에 대한 기본적인 전처리\n",
    "        # 장타 or 출루가 모두 0인 row, 타수가 30 미만인 row 삭제\n",
    "        zero_find = (aug_train['출루'] == 0) & (aug_train['장타'] == 0) & (aug_train['OPS'] == 0)\n",
    "        zero_idx = aug_train[zero_find].index\n",
    "        not_zero_idx = [idx for idx in aug_train.index if idx not in zero_idx]\n",
    "        new_aug_train = aug_train.loc[not_zero_idx]\n",
    "        new_aug_train = new_aug_train[new_aug_train['타수'] >= 30]\n",
    "        new_aug_train = new_aug_train.drop_duplicates()\n",
    "        \n",
    "        exclude_cols = ['NAME', 'PCODE', 'Date', '장타', '출루', 'OPS']\n",
    "        include_cols = [col for col in list(raw_df.columns) if col not in exclude_cols]\n",
    "        \n",
    "        # 모델 학습/평가에 사용할 최종 X_train, y_train, X_test, y_test 정의\n",
    "        X_train, y_train = new_aug_train[include_cols], new_aug_train[label]\n",
    "        X_test, y_test = val_df[include_cols], val_df[label]\n",
    "        \n",
    "        # 모델 학습, 성능 평가\n",
    "        print('------Starting Model Training------')\n",
    "        ensemble_model = model_dict[model]\n",
    "        ensemble_model.fit(X_train, y_train)\n",
    "        prediction = ensemble_model.predict(X_test)\n",
    "        \n",
    "        # Scoring\n",
    "        mae = mean_absolute_error(y_test, prediction)\n",
    "        rmse = np.sqrt(mean_squared_error(y_test, prediction))\n",
    "        \n",
    "        # Score list에 축적\n",
    "        mae_scores.append(mae)\n",
    "        rmse_scores.append(rmse)\n",
    "    \n",
    "    print('------------')\n",
    "    print('MODEL RESULT')\n",
    "    print(f'CV_ITER: {cv_iter}, AUG_NUM: {aug_num}, TRAIN_ROW_NUM: {len(X_train)}, MODEL: {model}')\n",
    "    print(f'Mean MAE: {np.mean(mae_scores)}, Mean RMSE: {np.mean(rmse_scores)}')"
   ]
  },
  {
   "cell_type": "code",
   "execution_count": 65,
   "metadata": {},
   "outputs": [
    {
     "name": "stderr",
     "output_type": "stream",
     "text": [
      "C:\\ProgramData\\Anaconda3\\lib\\site-packages\\pandas\\core\\indexing.py:1745: SettingWithCopyWarning: \n",
      "A value is trying to be set on a copy of a slice from a DataFrame.\n",
      "Try using .loc[row_indexer,col_indexer] = value instead\n",
      "\n",
      "See the caveats in the documentation: https://pandas.pydata.org/pandas-docs/stable/user_guide/indexing.html#returning-a-view-versus-a-copy\n",
      "  isetter(ilocs[0], value)\n",
      "\r",
      "dist_matrix:   0%|                                     | 0/356 [00:00<?, ?it/s]"
     ]
    },
    {
     "name": "stdout",
     "output_type": "stream",
     "text": [
      "CV_ITER: # 0\n",
      "------Starting Data Split------\n",
      "------Starting Data Augmentation------\n"
     ]
    },
    {
     "name": "stderr",
     "output_type": "stream",
     "text": [
      "dist_matrix: 100%|###########################| 356/356 [02:24<00:00,  2.46it/s]\n",
      "synth_matrix: 100%|##########################| 356/356 [00:12<00:00, 28.44it/s]\n",
      "r_index: 100%|################################| 62/62 [00:00<00:00, 112.73it/s]\n"
     ]
    },
    {
     "name": "stdout",
     "output_type": "stream",
     "text": [
      "------Starting Model Training------\n"
     ]
    },
    {
     "name": "stderr",
     "output_type": "stream",
     "text": [
      "C:\\ProgramData\\Anaconda3\\lib\\site-packages\\pandas\\core\\indexing.py:1745: SettingWithCopyWarning: \n",
      "A value is trying to be set on a copy of a slice from a DataFrame.\n",
      "Try using .loc[row_indexer,col_indexer] = value instead\n",
      "\n",
      "See the caveats in the documentation: https://pandas.pydata.org/pandas-docs/stable/user_guide/indexing.html#returning-a-view-versus-a-copy\n",
      "  isetter(ilocs[0], value)\n",
      "\r",
      "dist_matrix:   0%|                                     | 0/349 [00:00<?, ?it/s]"
     ]
    },
    {
     "name": "stdout",
     "output_type": "stream",
     "text": [
      "CV_ITER: # 1\n",
      "------Starting Data Split------\n",
      "------Starting Data Augmentation------\n"
     ]
    },
    {
     "name": "stderr",
     "output_type": "stream",
     "text": [
      "dist_matrix: 100%|###########################| 349/349 [02:21<00:00,  2.47it/s]\n",
      "synth_matrix: 100%|##########################| 349/349 [00:10<00:00, 32.04it/s]\n",
      "r_index: 100%|################################| 97/97 [00:00<00:00, 135.05it/s]\n"
     ]
    },
    {
     "name": "stdout",
     "output_type": "stream",
     "text": [
      "------Starting Model Training------\n",
      "------------\n",
      "MODEL RESULT\n",
      "CV_ITER: 2, AUG_NUM: 1, TRAIN_ROW_NUM: 1912, MODEL: rf\n",
      "Mean MAE: 0.17944980245505052, Mean RMSE: 0.23846180589653904\n"
     ]
    }
   ],
   "source": [
    "augmentation_cv(raw_data, '장타', cv_iter=2, aug_num=1, model='rf')"
   ]
  }
 ],
 "metadata": {
  "kernelspec": {
   "display_name": "Python 3",
   "language": "python",
   "name": "python3"
  },
  "language_info": {
   "codemirror_mode": {
    "name": "ipython",
    "version": 3
   },
   "file_extension": ".py",
   "mimetype": "text/x-python",
   "name": "python",
   "nbconvert_exporter": "python",
   "pygments_lexer": "ipython3",
   "version": "3.8.5"
  }
 },
 "nbformat": 4,
 "nbformat_minor": 4
}

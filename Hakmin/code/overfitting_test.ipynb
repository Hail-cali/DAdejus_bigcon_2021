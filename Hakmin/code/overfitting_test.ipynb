{
 "cells": [
  {
   "cell_type": "code",
   "execution_count": 2,
   "source": [
    "import pandas as pd"
   ],
   "outputs": [],
   "metadata": {}
  },
  {
   "cell_type": "code",
   "execution_count": null,
   "source": [],
   "outputs": [],
   "metadata": {}
  },
  {
   "cell_type": "code",
   "execution_count": 42,
   "source": [
    "df1 = pd.read_csv('../raw/2021/2021 빅콘테스트_데이터분석분야_챔피언리그_스포츠테크_선수_2021.csv', encoding='euc-kr')\n",
    "df2 = pd.read_csv('../raw/2020/2021 빅콘테스트_데이터분석분야_챔피언리그_스포츠테크_선수_2020.csv', encoding='euc-kr')\n",
    "df3 = pd.read_csv('../raw/2019/2021 빅콘테스트_데이터분석분야_챔피언리그_스포츠테크_선수_2019.csv', encoding='euc-kr')\n",
    "df4 = pd.read_csv('../raw/2018/2021 빅콘테스트_데이터분석분야_챔피언리그_스포츠테크_선수_2018.csv', encoding='euc-kr')\n",
    "df =  pd.concat([df1,df2,df3,df4])\n",
    "df = df.drop_duplicates([\"NAME\", \"PCODE\"])\n",
    "df = df[df['POSITION'] != '투']\n",
    "df.head()"
   ],
   "outputs": [
    {
     "output_type": "execute_result",
     "data": {
      "text/html": [
       "<div>\n",
       "<style scoped>\n",
       "    .dataframe tbody tr th:only-of-type {\n",
       "        vertical-align: middle;\n",
       "    }\n",
       "\n",
       "    .dataframe tbody tr th {\n",
       "        vertical-align: top;\n",
       "    }\n",
       "\n",
       "    .dataframe thead th {\n",
       "        text-align: right;\n",
       "    }\n",
       "</style>\n",
       "<table border=\"1\" class=\"dataframe\">\n",
       "  <thead>\n",
       "    <tr style=\"text-align: right;\">\n",
       "      <th></th>\n",
       "      <th>GYEAR</th>\n",
       "      <th>PCODE</th>\n",
       "      <th>NAME</th>\n",
       "      <th>T_ID</th>\n",
       "      <th>POSITION</th>\n",
       "      <th>AGE_VA</th>\n",
       "      <th>MONEY</th>\n",
       "    </tr>\n",
       "  </thead>\n",
       "  <tbody>\n",
       "    <tr>\n",
       "      <th>3</th>\n",
       "      <td>2021</td>\n",
       "      <td>50054</td>\n",
       "      <td>천성호</td>\n",
       "      <td>KT</td>\n",
       "      <td>내</td>\n",
       "      <td>23</td>\n",
       "      <td>4000만원</td>\n",
       "    </tr>\n",
       "    <tr>\n",
       "      <th>4</th>\n",
       "      <td>2021</td>\n",
       "      <td>50066</td>\n",
       "      <td>강현우</td>\n",
       "      <td>KT</td>\n",
       "      <td>포</td>\n",
       "      <td>20</td>\n",
       "      <td>3000만원</td>\n",
       "    </tr>\n",
       "    <tr>\n",
       "      <th>5</th>\n",
       "      <td>2021</td>\n",
       "      <td>50092</td>\n",
       "      <td>윤준혁</td>\n",
       "      <td>KT</td>\n",
       "      <td>내</td>\n",
       "      <td>19</td>\n",
       "      <td>3000만원</td>\n",
       "    </tr>\n",
       "    <tr>\n",
       "      <th>7</th>\n",
       "      <td>2021</td>\n",
       "      <td>50150</td>\n",
       "      <td>손호영</td>\n",
       "      <td>LG</td>\n",
       "      <td>내</td>\n",
       "      <td>26</td>\n",
       "      <td>3700만원</td>\n",
       "    </tr>\n",
       "    <tr>\n",
       "      <th>9</th>\n",
       "      <td>2021</td>\n",
       "      <td>50165</td>\n",
       "      <td>라모스</td>\n",
       "      <td>LG</td>\n",
       "      <td>내</td>\n",
       "      <td>26</td>\n",
       "      <td>600000달러</td>\n",
       "    </tr>\n",
       "  </tbody>\n",
       "</table>\n",
       "</div>"
      ],
      "text/plain": [
       "   GYEAR  PCODE NAME T_ID POSITION  AGE_VA     MONEY\n",
       "3   2021  50054  천성호   KT        내      23    4000만원\n",
       "4   2021  50066  강현우   KT        포      20    3000만원\n",
       "5   2021  50092  윤준혁   KT        내      19    3000만원\n",
       "7   2021  50150  손호영   LG        내      26    3700만원\n",
       "9   2021  50165  라모스   LG        내      26  600000달러"
      ]
     },
     "metadata": {},
     "execution_count": 42
    }
   ],
   "metadata": {}
  },
  {
   "cell_type": "code",
   "execution_count": 44,
   "source": [
    "for pcode in df['PCODE'].unique():\n",
    "    if len(df[df['PCODE'] == pcode]['NAME']) >= 2:\n",
    "        print(pcode)"
   ],
   "outputs": [
    {
     "output_type": "stream",
     "name": "stdout",
     "text": [
      "62895\n",
      "63559\n",
      "63905\n",
      "64717\n",
      "65514\n",
      "60100\n",
      "67207\n"
     ]
    }
   ],
   "metadata": {}
  },
  {
   "cell_type": "code",
   "execution_count": 51,
   "source": [
    "df[df['PCODE'] == 67207]['NAME']"
   ],
   "outputs": [
    {
     "output_type": "execute_result",
     "data": {
      "text/plain": [
       "398    이유찬\n",
       "328    이병휘\n",
       "Name: NAME, dtype: object"
      ]
     },
     "metadata": {},
     "execution_count": 51
    }
   ],
   "metadata": {}
  },
  {
   "cell_type": "code",
   "execution_count": 33,
   "source": [
    "for name in df['NAME'].unique():\n",
    "    if len(df[df['NAME'] == name]['PCODE']) >= 2:\n",
    "        print(name)"
   ],
   "outputs": [
    {
     "output_type": "stream",
     "name": "stdout",
     "text": [
      "이주형\n",
      "김성민\n",
      "김재현\n",
      "김민혁\n",
      "김민수\n",
      "김지수\n",
      "이재원\n",
      "김주형\n",
      "이명기\n",
      "이원석\n",
      "박준혁\n"
     ]
    }
   ],
   "metadata": {}
  },
  {
   "cell_type": "code",
   "execution_count": 23,
   "source": [
    "df[df['NAME'] == \"이주형\"]['PCODE']"
   ],
   "outputs": [
    {
     "output_type": "execute_result",
     "data": {
      "text/plain": [
       "10    50167\n",
       "84    51302\n",
       "Name: PCODE, dtype: int64"
      ]
     },
     "metadata": {},
     "execution_count": 23
    }
   ],
   "metadata": {}
  },
  {
   "cell_type": "code",
   "execution_count": 56,
   "source": [
    "df5 = pd.read_csv('../../dataset/배럴타구여부추가.csv')\n",
    "df5[df5['NAME'] == '이재원']['PCODE'].unique()"
   ],
   "outputs": [
    {
     "output_type": "execute_result",
     "data": {
      "text/plain": [
       "array([76812, 68106])"
      ]
     },
     "metadata": {},
     "execution_count": 56
    }
   ],
   "metadata": {}
  },
  {
   "cell_type": "code",
   "execution_count": 64,
   "source": [
    "(df5['NAME'] == '이재원')"
   ],
   "outputs": [
    {
     "output_type": "execute_result",
     "data": {
      "text/plain": [
       "array(['SK', 'LG'], dtype=object)"
      ]
     },
     "metadata": {},
     "execution_count": 64
    }
   ],
   "metadata": {}
  },
  {
   "cell_type": "code",
   "execution_count": 65,
   "source": [
    "df1 = pd.read_csv('../raw/선수정보_2018.csv')\n",
    "df2 = pd.read_csv('../raw/선수정보_2019.csv')\n",
    "df3 = pd.read_csv('../raw/선수정보_2020.csv')\n",
    "df4 = pd.read_csv('../raw/선수정보_2021.csv')"
   ],
   "outputs": [],
   "metadata": {}
  },
  {
   "cell_type": "code",
   "execution_count": 66,
   "source": [
    "df1['year'] = 2018\n",
    "df2['year'] = 2019\n",
    "df3['year'] = 2020\n",
    "df4['year'] = 2021"
   ],
   "outputs": [],
   "metadata": {}
  },
  {
   "cell_type": "code",
   "execution_count": 67,
   "source": [
    "df = pd.concat([df1,df2,df3,df4]).reset_index().drop('index', axis=1)\n",
    "df.head()"
   ],
   "outputs": [
    {
     "output_type": "execute_result",
     "data": {
      "text/html": [
       "<div>\n",
       "<style scoped>\n",
       "    .dataframe tbody tr th:only-of-type {\n",
       "        vertical-align: middle;\n",
       "    }\n",
       "\n",
       "    .dataframe tbody tr th {\n",
       "        vertical-align: top;\n",
       "    }\n",
       "\n",
       "    .dataframe thead th {\n",
       "        text-align: right;\n",
       "    }\n",
       "</style>\n",
       "<table border=\"1\" class=\"dataframe\">\n",
       "  <thead>\n",
       "    <tr style=\"text-align: right;\">\n",
       "      <th></th>\n",
       "      <th>이름</th>\n",
       "      <th>날짜</th>\n",
       "      <th>상대</th>\n",
       "      <th>결과</th>\n",
       "      <th>점수</th>\n",
       "      <th>타순</th>\n",
       "      <th>P</th>\n",
       "      <th>선발</th>\n",
       "      <th>타수</th>\n",
       "      <th>득점</th>\n",
       "      <th>...</th>\n",
       "      <th>희비</th>\n",
       "      <th>타율</th>\n",
       "      <th>출루</th>\n",
       "      <th>장타</th>\n",
       "      <th>OPS</th>\n",
       "      <th>투구</th>\n",
       "      <th>avLI</th>\n",
       "      <th>RE24</th>\n",
       "      <th>WPA</th>\n",
       "      <th>year</th>\n",
       "    </tr>\n",
       "  </thead>\n",
       "  <tbody>\n",
       "    <tr>\n",
       "      <th>0</th>\n",
       "      <td>정훈</td>\n",
       "      <td>04-29</td>\n",
       "      <td>한화</td>\n",
       "      <td>W</td>\n",
       "      <td>4:3</td>\n",
       "      <td>7</td>\n",
       "      <td>3B</td>\n",
       "      <td>1</td>\n",
       "      <td>2</td>\n",
       "      <td>0</td>\n",
       "      <td>...</td>\n",
       "      <td>1</td>\n",
       "      <td>0.000</td>\n",
       "      <td>0.000</td>\n",
       "      <td>0.000</td>\n",
       "      <td>0.000</td>\n",
       "      <td>8</td>\n",
       "      <td>1.51</td>\n",
       "      <td>-0.72</td>\n",
       "      <td>-0.046</td>\n",
       "      <td>2018</td>\n",
       "    </tr>\n",
       "    <tr>\n",
       "      <th>1</th>\n",
       "      <td>정훈</td>\n",
       "      <td>05-02</td>\n",
       "      <td>KIA</td>\n",
       "      <td>L</td>\n",
       "      <td>6:12</td>\n",
       "      <td>6</td>\n",
       "      <td>1B</td>\n",
       "      <td>1</td>\n",
       "      <td>4</td>\n",
       "      <td>0</td>\n",
       "      <td>...</td>\n",
       "      <td>0</td>\n",
       "      <td>0.125</td>\n",
       "      <td>0.111</td>\n",
       "      <td>0.250</td>\n",
       "      <td>0.361</td>\n",
       "      <td>12</td>\n",
       "      <td>1.09</td>\n",
       "      <td>-0.33</td>\n",
       "      <td>-0.032</td>\n",
       "      <td>2018</td>\n",
       "    </tr>\n",
       "    <tr>\n",
       "      <th>2</th>\n",
       "      <td>정훈</td>\n",
       "      <td>05-04</td>\n",
       "      <td>@SK</td>\n",
       "      <td>L</td>\n",
       "      <td>4:5</td>\n",
       "      <td>9</td>\n",
       "      <td>PH</td>\n",
       "      <td>0</td>\n",
       "      <td>1</td>\n",
       "      <td>1</td>\n",
       "      <td>...</td>\n",
       "      <td>0</td>\n",
       "      <td>0.300</td>\n",
       "      <td>0.273</td>\n",
       "      <td>0.800</td>\n",
       "      <td>1.073</td>\n",
       "      <td>3</td>\n",
       "      <td>0.44</td>\n",
       "      <td>1.00</td>\n",
       "      <td>0.025</td>\n",
       "      <td>2018</td>\n",
       "    </tr>\n",
       "    <tr>\n",
       "      <th>3</th>\n",
       "      <td>정훈</td>\n",
       "      <td>05-08</td>\n",
       "      <td>@LG</td>\n",
       "      <td>W</td>\n",
       "      <td>4:2</td>\n",
       "      <td>5</td>\n",
       "      <td>PH</td>\n",
       "      <td>0</td>\n",
       "      <td>1</td>\n",
       "      <td>0</td>\n",
       "      <td>...</td>\n",
       "      <td>0</td>\n",
       "      <td>0.333</td>\n",
       "      <td>0.308</td>\n",
       "      <td>0.750</td>\n",
       "      <td>1.058</td>\n",
       "      <td>6</td>\n",
       "      <td>0.49</td>\n",
       "      <td>-0.26</td>\n",
       "      <td>-0.013</td>\n",
       "      <td>2018</td>\n",
       "    </tr>\n",
       "    <tr>\n",
       "      <th>4</th>\n",
       "      <td>정훈</td>\n",
       "      <td>05-10</td>\n",
       "      <td>@LG</td>\n",
       "      <td>W</td>\n",
       "      <td>7:2</td>\n",
       "      <td>9</td>\n",
       "      <td>PH</td>\n",
       "      <td>0</td>\n",
       "      <td>1</td>\n",
       "      <td>0</td>\n",
       "      <td>...</td>\n",
       "      <td>0</td>\n",
       "      <td>0.333</td>\n",
       "      <td>0.313</td>\n",
       "      <td>0.667</td>\n",
       "      <td>0.979</td>\n",
       "      <td>3</td>\n",
       "      <td>0.02</td>\n",
       "      <td>-0.26</td>\n",
       "      <td>-0.001</td>\n",
       "      <td>2018</td>\n",
       "    </tr>\n",
       "  </tbody>\n",
       "</table>\n",
       "<p>5 rows × 34 columns</p>\n",
       "</div>"
      ],
      "text/plain": [
       "   이름     날짜   상대 결과    점수  타순   P  선발  타수  득점  ...  희비     타율     출루     장타  \\\n",
       "0  정훈  04-29   한화  W   4:3   7  3B   1   2   0  ...   1  0.000  0.000  0.000   \n",
       "1  정훈  05-02  KIA  L  6:12   6  1B   1   4   0  ...   0  0.125  0.111  0.250   \n",
       "2  정훈  05-04  @SK  L   4:5   9  PH   0   1   1  ...   0  0.300  0.273  0.800   \n",
       "3  정훈  05-08  @LG  W   4:2   5  PH   0   1   0  ...   0  0.333  0.308  0.750   \n",
       "4  정훈  05-10  @LG  W   7:2   9  PH   0   1   0  ...   0  0.333  0.313  0.667   \n",
       "\n",
       "     OPS  투구  avLI  RE24    WPA  year  \n",
       "0  0.000   8  1.51 -0.72 -0.046  2018  \n",
       "1  0.361  12  1.09 -0.33 -0.032  2018  \n",
       "2  1.073   3  0.44  1.00  0.025  2018  \n",
       "3  1.058   6  0.49 -0.26 -0.013  2018  \n",
       "4  0.979   3  0.02 -0.26 -0.001  2018  \n",
       "\n",
       "[5 rows x 34 columns]"
      ]
     },
     "metadata": {},
     "execution_count": 67
    }
   ],
   "metadata": {}
  },
  {
   "cell_type": "code",
   "execution_count": 70,
   "source": [
    "df.iloc[0:15].groupby(\"이름\").sum()[]"
   ],
   "outputs": [
    {
     "output_type": "execute_result",
     "data": {
      "text/html": [
       "<div>\n",
       "<style scoped>\n",
       "    .dataframe tbody tr th:only-of-type {\n",
       "        vertical-align: middle;\n",
       "    }\n",
       "\n",
       "    .dataframe tbody tr th {\n",
       "        vertical-align: top;\n",
       "    }\n",
       "\n",
       "    .dataframe thead th {\n",
       "        text-align: right;\n",
       "    }\n",
       "</style>\n",
       "<table border=\"1\" class=\"dataframe\">\n",
       "  <thead>\n",
       "    <tr style=\"text-align: right;\">\n",
       "      <th></th>\n",
       "      <th>타순</th>\n",
       "      <th>선발</th>\n",
       "      <th>타수</th>\n",
       "      <th>득점</th>\n",
       "      <th>안타</th>\n",
       "      <th>2타</th>\n",
       "      <th>3타</th>\n",
       "      <th>홈런</th>\n",
       "      <th>루타</th>\n",
       "      <th>타점</th>\n",
       "      <th>...</th>\n",
       "      <th>희비</th>\n",
       "      <th>타율</th>\n",
       "      <th>출루</th>\n",
       "      <th>장타</th>\n",
       "      <th>OPS</th>\n",
       "      <th>투구</th>\n",
       "      <th>avLI</th>\n",
       "      <th>RE24</th>\n",
       "      <th>WPA</th>\n",
       "      <th>year</th>\n",
       "    </tr>\n",
       "    <tr>\n",
       "      <th>이름</th>\n",
       "      <th></th>\n",
       "      <th></th>\n",
       "      <th></th>\n",
       "      <th></th>\n",
       "      <th></th>\n",
       "      <th></th>\n",
       "      <th></th>\n",
       "      <th></th>\n",
       "      <th></th>\n",
       "      <th></th>\n",
       "      <th></th>\n",
       "      <th></th>\n",
       "      <th></th>\n",
       "      <th></th>\n",
       "      <th></th>\n",
       "      <th></th>\n",
       "      <th></th>\n",
       "      <th></th>\n",
       "      <th></th>\n",
       "      <th></th>\n",
       "      <th></th>\n",
       "    </tr>\n",
       "  </thead>\n",
       "  <tbody>\n",
       "    <tr>\n",
       "      <th>정훈</th>\n",
       "      <td>85</td>\n",
       "      <td>7</td>\n",
       "      <td>34</td>\n",
       "      <td>9</td>\n",
       "      <td>11</td>\n",
       "      <td>4</td>\n",
       "      <td>0</td>\n",
       "      <td>3</td>\n",
       "      <td>24</td>\n",
       "      <td>7</td>\n",
       "      <td>...</td>\n",
       "      <td>2</td>\n",
       "      <td>3.877</td>\n",
       "      <td>3.925</td>\n",
       "      <td>7.835</td>\n",
       "      <td>11.76</td>\n",
       "      <td>137</td>\n",
       "      <td>8.97</td>\n",
       "      <td>0.7</td>\n",
       "      <td>-0.147</td>\n",
       "      <td>30270</td>\n",
       "    </tr>\n",
       "  </tbody>\n",
       "</table>\n",
       "<p>1 rows × 28 columns</p>\n",
       "</div>"
      ],
      "text/plain": [
       "    타순  선발  타수  득점  안타  2타  3타  홈런  루타  타점  ...  희비     타율     출루     장타  \\\n",
       "이름                                          ...                            \n",
       "정훈  85   7  34   9  11   4   0   3  24   7  ...   2  3.877  3.925  7.835   \n",
       "\n",
       "      OPS   투구  avLI  RE24    WPA   year  \n",
       "이름                                        \n",
       "정훈  11.76  137  8.97   0.7 -0.147  30270  \n",
       "\n",
       "[1 rows x 28 columns]"
      ]
     },
     "metadata": {},
     "execution_count": 70
    }
   ],
   "metadata": {}
  },
  {
   "cell_type": "code",
   "execution_count": null,
   "source": [],
   "outputs": [],
   "metadata": {}
  }
 ],
 "metadata": {
  "orig_nbformat": 4,
  "language_info": {
   "name": "python",
   "version": "3.8.5",
   "mimetype": "text/x-python",
   "codemirror_mode": {
    "name": "ipython",
    "version": 3
   },
   "pygments_lexer": "ipython3",
   "nbconvert_exporter": "python",
   "file_extension": ".py"
  },
  "kernelspec": {
   "name": "python3",
   "display_name": "Python 3.8.5 64-bit ('bigcon_venv': venv)"
  },
  "interpreter": {
   "hash": "eb0b7aa54a4c3414319ae66f106c79109b5c1406a9dfd32a9fe528b308d66c65"
  }
 },
 "nbformat": 4,
 "nbformat_minor": 2
}
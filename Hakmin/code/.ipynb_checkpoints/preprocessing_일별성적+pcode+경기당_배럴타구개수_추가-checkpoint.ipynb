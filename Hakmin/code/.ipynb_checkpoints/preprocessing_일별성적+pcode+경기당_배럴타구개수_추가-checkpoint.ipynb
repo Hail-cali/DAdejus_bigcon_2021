{
 "cells": [
  {
   "cell_type": "code",
   "execution_count": 85,
   "metadata": {},
   "outputs": [],
   "source": [
    "import pandas as pd\n",
    "import numpy as np\n",
    "import os\n",
    "import re"
   ]
  },
  {
   "cell_type": "markdown",
   "metadata": {},
   "source": [
    "# 데이터 불러오기"
   ]
  },
  {
   "cell_type": "code",
   "execution_count": 86,
   "metadata": {},
   "outputs": [],
   "source": [
    "df1 = pd.read_csv('../raw/선수정보_2018.csv')\n",
    "df2 = pd.read_csv('../raw/선수정보_2019.csv')\n",
    "df3 = pd.read_csv('../raw/선수정보_2020.csv')\n",
    "df4 = pd.read_csv('../raw/선수정보_2021.csv')"
   ]
  },
  {
   "cell_type": "code",
   "execution_count": 87,
   "metadata": {},
   "outputs": [
    {
     "data": {
      "text/html": [
       "<div>\n",
       "<style scoped>\n",
       "    .dataframe tbody tr th:only-of-type {\n",
       "        vertical-align: middle;\n",
       "    }\n",
       "\n",
       "    .dataframe tbody tr th {\n",
       "        vertical-align: top;\n",
       "    }\n",
       "\n",
       "    .dataframe thead th {\n",
       "        text-align: right;\n",
       "    }\n",
       "</style>\n",
       "<table border=\"1\" class=\"dataframe\">\n",
       "  <thead>\n",
       "    <tr style=\"text-align: right;\">\n",
       "      <th></th>\n",
       "      <th>PCODE</th>\n",
       "      <th>GYEAR</th>\n",
       "      <th>G_ID</th>\n",
       "      <th>PIT_ID</th>\n",
       "      <th>T_ID</th>\n",
       "      <th>INN</th>\n",
       "      <th>HIT_VEL</th>\n",
       "      <th>HIT_ANG_VER</th>\n",
       "      <th>HIT_RESULT</th>\n",
       "      <th>PIT_VEL</th>\n",
       "      <th>STADIUM</th>\n",
       "      <th>NAME</th>\n",
       "      <th>barrel</th>\n",
       "      <th>Date</th>\n",
       "    </tr>\n",
       "  </thead>\n",
       "  <tbody>\n",
       "    <tr>\n",
       "      <th>120740</th>\n",
       "      <td>79608</td>\n",
       "      <td>2021</td>\n",
       "      <td>20210709LTSS0</td>\n",
       "      <td>210709_223300</td>\n",
       "      <td>LT</td>\n",
       "      <td>11</td>\n",
       "      <td>141.40</td>\n",
       "      <td>25.8</td>\n",
       "      <td>플라이</td>\n",
       "      <td>135.88</td>\n",
       "      <td>대구</td>\n",
       "      <td>안치홍</td>\n",
       "      <td>True</td>\n",
       "      <td>20210709</td>\n",
       "    </tr>\n",
       "    <tr>\n",
       "      <th>120741</th>\n",
       "      <td>79608</td>\n",
       "      <td>2021</td>\n",
       "      <td>20210710LTSS0</td>\n",
       "      <td>210710_182636</td>\n",
       "      <td>LT</td>\n",
       "      <td>2</td>\n",
       "      <td>120.76</td>\n",
       "      <td>17.3</td>\n",
       "      <td>1루타</td>\n",
       "      <td>121.50</td>\n",
       "      <td>대구</td>\n",
       "      <td>안치홍</td>\n",
       "      <td>False</td>\n",
       "      <td>20210710</td>\n",
       "    </tr>\n",
       "    <tr>\n",
       "      <th>120742</th>\n",
       "      <td>79608</td>\n",
       "      <td>2021</td>\n",
       "      <td>20210710LTSS0</td>\n",
       "      <td>210710_205259</td>\n",
       "      <td>LT</td>\n",
       "      <td>4</td>\n",
       "      <td>156.86</td>\n",
       "      <td>11.4</td>\n",
       "      <td>2루타</td>\n",
       "      <td>126.40</td>\n",
       "      <td>대구</td>\n",
       "      <td>안치홍</td>\n",
       "      <td>True</td>\n",
       "      <td>20210710</td>\n",
       "    </tr>\n",
       "    <tr>\n",
       "      <th>120743</th>\n",
       "      <td>79608</td>\n",
       "      <td>2021</td>\n",
       "      <td>20210711LTSS0</td>\n",
       "      <td>210711_181318</td>\n",
       "      <td>LT</td>\n",
       "      <td>4</td>\n",
       "      <td>122.34</td>\n",
       "      <td>69.3</td>\n",
       "      <td>플라이</td>\n",
       "      <td>129.76</td>\n",
       "      <td>대구</td>\n",
       "      <td>안치홍</td>\n",
       "      <td>False</td>\n",
       "      <td>20210711</td>\n",
       "    </tr>\n",
       "    <tr>\n",
       "      <th>120744</th>\n",
       "      <td>79608</td>\n",
       "      <td>2021</td>\n",
       "      <td>20210711LTSS0</td>\n",
       "      <td>210711_185214</td>\n",
       "      <td>LT</td>\n",
       "      <td>6</td>\n",
       "      <td>107.67</td>\n",
       "      <td>85.8</td>\n",
       "      <td>파울플라이</td>\n",
       "      <td>136.17</td>\n",
       "      <td>대구</td>\n",
       "      <td>안치홍</td>\n",
       "      <td>False</td>\n",
       "      <td>20210711</td>\n",
       "    </tr>\n",
       "  </tbody>\n",
       "</table>\n",
       "</div>"
      ],
      "text/plain": [
       "        PCODE  GYEAR           G_ID         PIT_ID T_ID  INN  HIT_VEL  \\\n",
       "120740  79608   2021  20210709LTSS0  210709_223300   LT   11   141.40   \n",
       "120741  79608   2021  20210710LTSS0  210710_182636   LT    2   120.76   \n",
       "120742  79608   2021  20210710LTSS0  210710_205259   LT    4   156.86   \n",
       "120743  79608   2021  20210711LTSS0  210711_181318   LT    4   122.34   \n",
       "120744  79608   2021  20210711LTSS0  210711_185214   LT    6   107.67   \n",
       "\n",
       "        HIT_ANG_VER HIT_RESULT  PIT_VEL STADIUM NAME  barrel      Date  \n",
       "120740         25.8        플라이   135.88      대구  안치홍    True  20210709  \n",
       "120741         17.3        1루타   121.50      대구  안치홍   False  20210710  \n",
       "120742         11.4        2루타   126.40      대구  안치홍    True  20210710  \n",
       "120743         69.3        플라이   129.76      대구  안치홍   False  20210711  \n",
       "120744         85.8      파울플라이   136.17      대구  안치홍   False  20210711  "
      ]
     },
     "execution_count": 87,
     "metadata": {},
     "output_type": "execute_result"
    }
   ],
   "source": [
    "#각 타구별로 선수이름과 배럴타구여부를 붙인 데이터\n",
    "df5 = pd.read_csv('../../dataset/배럴타구여부추가.csv')\n",
    "df5.tail()"
   ]
  },
  {
   "cell_type": "code",
   "execution_count": 88,
   "metadata": {},
   "outputs": [],
   "source": [
    "#연도정보 추가 및 concat 수행\n",
    "df1['year'] = 2018\n",
    "df2['year'] = 2019\n",
    "df3['year'] = 2020\n",
    "df4['year'] = 2021"
   ]
  },
  {
   "cell_type": "code",
   "execution_count": 89,
   "metadata": {},
   "outputs": [
    {
     "data": {
      "text/html": [
       "<div>\n",
       "<style scoped>\n",
       "    .dataframe tbody tr th:only-of-type {\n",
       "        vertical-align: middle;\n",
       "    }\n",
       "\n",
       "    .dataframe tbody tr th {\n",
       "        vertical-align: top;\n",
       "    }\n",
       "\n",
       "    .dataframe thead th {\n",
       "        text-align: right;\n",
       "    }\n",
       "</style>\n",
       "<table border=\"1\" class=\"dataframe\">\n",
       "  <thead>\n",
       "    <tr style=\"text-align: right;\">\n",
       "      <th></th>\n",
       "      <th>이름</th>\n",
       "      <th>날짜</th>\n",
       "      <th>상대</th>\n",
       "      <th>결과</th>\n",
       "      <th>점수</th>\n",
       "      <th>타순</th>\n",
       "      <th>P</th>\n",
       "      <th>선발</th>\n",
       "      <th>타수</th>\n",
       "      <th>득점</th>\n",
       "      <th>...</th>\n",
       "      <th>희비</th>\n",
       "      <th>타율</th>\n",
       "      <th>출루</th>\n",
       "      <th>장타</th>\n",
       "      <th>OPS</th>\n",
       "      <th>투구</th>\n",
       "      <th>avLI</th>\n",
       "      <th>RE24</th>\n",
       "      <th>WPA</th>\n",
       "      <th>year</th>\n",
       "    </tr>\n",
       "  </thead>\n",
       "  <tbody>\n",
       "    <tr>\n",
       "      <th>0</th>\n",
       "      <td>정훈</td>\n",
       "      <td>04-29</td>\n",
       "      <td>한화</td>\n",
       "      <td>W</td>\n",
       "      <td>4:3</td>\n",
       "      <td>7</td>\n",
       "      <td>3B</td>\n",
       "      <td>1</td>\n",
       "      <td>2</td>\n",
       "      <td>0</td>\n",
       "      <td>...</td>\n",
       "      <td>1</td>\n",
       "      <td>0.000</td>\n",
       "      <td>0.000</td>\n",
       "      <td>0.000</td>\n",
       "      <td>0.000</td>\n",
       "      <td>8</td>\n",
       "      <td>1.51</td>\n",
       "      <td>-0.72</td>\n",
       "      <td>-0.046</td>\n",
       "      <td>2018</td>\n",
       "    </tr>\n",
       "    <tr>\n",
       "      <th>1</th>\n",
       "      <td>정훈</td>\n",
       "      <td>05-02</td>\n",
       "      <td>KIA</td>\n",
       "      <td>L</td>\n",
       "      <td>6:12</td>\n",
       "      <td>6</td>\n",
       "      <td>1B</td>\n",
       "      <td>1</td>\n",
       "      <td>4</td>\n",
       "      <td>0</td>\n",
       "      <td>...</td>\n",
       "      <td>0</td>\n",
       "      <td>0.125</td>\n",
       "      <td>0.111</td>\n",
       "      <td>0.250</td>\n",
       "      <td>0.361</td>\n",
       "      <td>12</td>\n",
       "      <td>1.09</td>\n",
       "      <td>-0.33</td>\n",
       "      <td>-0.032</td>\n",
       "      <td>2018</td>\n",
       "    </tr>\n",
       "    <tr>\n",
       "      <th>2</th>\n",
       "      <td>정훈</td>\n",
       "      <td>05-04</td>\n",
       "      <td>@SK</td>\n",
       "      <td>L</td>\n",
       "      <td>4:5</td>\n",
       "      <td>9</td>\n",
       "      <td>PH</td>\n",
       "      <td>0</td>\n",
       "      <td>1</td>\n",
       "      <td>1</td>\n",
       "      <td>...</td>\n",
       "      <td>0</td>\n",
       "      <td>0.300</td>\n",
       "      <td>0.273</td>\n",
       "      <td>0.800</td>\n",
       "      <td>1.073</td>\n",
       "      <td>3</td>\n",
       "      <td>0.44</td>\n",
       "      <td>1.00</td>\n",
       "      <td>0.025</td>\n",
       "      <td>2018</td>\n",
       "    </tr>\n",
       "    <tr>\n",
       "      <th>3</th>\n",
       "      <td>정훈</td>\n",
       "      <td>05-08</td>\n",
       "      <td>@LG</td>\n",
       "      <td>W</td>\n",
       "      <td>4:2</td>\n",
       "      <td>5</td>\n",
       "      <td>PH</td>\n",
       "      <td>0</td>\n",
       "      <td>1</td>\n",
       "      <td>0</td>\n",
       "      <td>...</td>\n",
       "      <td>0</td>\n",
       "      <td>0.333</td>\n",
       "      <td>0.308</td>\n",
       "      <td>0.750</td>\n",
       "      <td>1.058</td>\n",
       "      <td>6</td>\n",
       "      <td>0.49</td>\n",
       "      <td>-0.26</td>\n",
       "      <td>-0.013</td>\n",
       "      <td>2018</td>\n",
       "    </tr>\n",
       "    <tr>\n",
       "      <th>4</th>\n",
       "      <td>정훈</td>\n",
       "      <td>05-10</td>\n",
       "      <td>@LG</td>\n",
       "      <td>W</td>\n",
       "      <td>7:2</td>\n",
       "      <td>9</td>\n",
       "      <td>PH</td>\n",
       "      <td>0</td>\n",
       "      <td>1</td>\n",
       "      <td>0</td>\n",
       "      <td>...</td>\n",
       "      <td>0</td>\n",
       "      <td>0.333</td>\n",
       "      <td>0.313</td>\n",
       "      <td>0.667</td>\n",
       "      <td>0.979</td>\n",
       "      <td>3</td>\n",
       "      <td>0.02</td>\n",
       "      <td>-0.26</td>\n",
       "      <td>-0.001</td>\n",
       "      <td>2018</td>\n",
       "    </tr>\n",
       "  </tbody>\n",
       "</table>\n",
       "<p>5 rows × 34 columns</p>\n",
       "</div>"
      ],
      "text/plain": [
       "   이름     날짜   상대 결과    점수  타순   P  선발  타수  득점  ...  희비     타율     출루     장타  \\\n",
       "0  정훈  04-29   한화  W   4:3   7  3B   1   2   0  ...   1  0.000  0.000  0.000   \n",
       "1  정훈  05-02  KIA  L  6:12   6  1B   1   4   0  ...   0  0.125  0.111  0.250   \n",
       "2  정훈  05-04  @SK  L   4:5   9  PH   0   1   1  ...   0  0.300  0.273  0.800   \n",
       "3  정훈  05-08  @LG  W   4:2   5  PH   0   1   0  ...   0  0.333  0.308  0.750   \n",
       "4  정훈  05-10  @LG  W   7:2   9  PH   0   1   0  ...   0  0.333  0.313  0.667   \n",
       "\n",
       "     OPS  투구  avLI  RE24    WPA  year  \n",
       "0  0.000   8  1.51 -0.72 -0.046  2018  \n",
       "1  0.361  12  1.09 -0.33 -0.032  2018  \n",
       "2  1.073   3  0.44  1.00  0.025  2018  \n",
       "3  1.058   6  0.49 -0.26 -0.013  2018  \n",
       "4  0.979   3  0.02 -0.26 -0.001  2018  \n",
       "\n",
       "[5 rows x 34 columns]"
      ]
     },
     "execution_count": 89,
     "metadata": {},
     "output_type": "execute_result"
    }
   ],
   "source": [
    "df = pd.concat([df1,df2,df3,df4]).reset_index().drop('index', axis=1)\n",
    "df.head()"
   ]
  },
  {
   "cell_type": "code",
   "execution_count": 90,
   "metadata": {},
   "outputs": [
    {
     "data": {
      "text/plain": [
       "63452"
      ]
     },
     "execution_count": 90,
     "metadata": {},
     "output_type": "execute_result"
    }
   ],
   "source": [
    "len(df)"
   ]
  },
  {
   "cell_type": "code",
   "execution_count": 91,
   "metadata": {},
   "outputs": [],
   "source": [
    "#Merge를 위해 Date 정보 추가\n",
    "df['날짜'] = df['날짜'].str.replace(\"-\", \"\")\n",
    "df['Date'] = df['year'].astype('str') + df['날짜']"
   ]
  },
  {
   "cell_type": "code",
   "execution_count": 92,
   "metadata": {},
   "outputs": [
    {
     "data": {
      "text/plain": [
       "array(['WO김재현', 'SK김재현', 'SS김민수', 'LT김민수'], dtype=object)"
      ]
     },
     "execution_count": 92,
     "metadata": {},
     "output_type": "execute_result"
    }
   ],
   "source": [
    "#동명이인이 존재하므로 해당선수에 대해 구분할 수 있게 정보 추가\n",
    "df[df['이름'].apply(lambda x : bool(re.match(string = x, pattern='[a-zA-Z]')))]['이름'].unique()"
   ]
  },
  {
   "cell_type": "code",
   "execution_count": 93,
   "metadata": {},
   "outputs": [],
   "source": [
    "wo_jae_index = df5[(df5['NAME'] == '김재현') & (df5['T_ID'] == 'WO')].index\n",
    "sk_jae_index = df5[(df5['NAME'] == '김재현') & (df5['T_ID'] == 'SK')].index\n",
    "ss_min_index = df5[(df5['NAME'] == '김민수') & (df5['T_ID'] == 'SS')].index\n",
    "lt_min_index = df5[(df5['NAME'] == '김민수') & (df5['T_ID'] == 'LT')].index"
   ]
  },
  {
   "cell_type": "code",
   "execution_count": 94,
   "metadata": {},
   "outputs": [],
   "source": [
    "df5.loc[wo_jae_index, 'NAME'] = 'WO김재현'\n",
    "df5.loc[sk_jae_index, 'NAME'] = 'SK김재현'\n",
    "df5.loc[ss_min_index, 'NAME'] = 'SS김민수'\n",
    "df5.loc[lt_min_index, 'NAME'] = 'LT김민수'"
   ]
  },
  {
   "cell_type": "code",
   "execution_count": 95,
   "metadata": {},
   "outputs": [],
   "source": [
    "#선수별/날짜별 배럴타구 생산 개수 계산\n",
    "df5 = df5[['PCODE', 'NAME', 'barrel', 'Date']]\n",
    "df5['Date'] = df5['Date'].astype('str')"
   ]
  },
  {
   "cell_type": "code",
   "execution_count": 96,
   "metadata": {},
   "outputs": [
    {
     "data": {
      "text/html": [
       "<div>\n",
       "<style scoped>\n",
       "    .dataframe tbody tr th:only-of-type {\n",
       "        vertical-align: middle;\n",
       "    }\n",
       "\n",
       "    .dataframe tbody tr th {\n",
       "        vertical-align: top;\n",
       "    }\n",
       "\n",
       "    .dataframe thead th {\n",
       "        text-align: right;\n",
       "    }\n",
       "</style>\n",
       "<table border=\"1\" class=\"dataframe\">\n",
       "  <thead>\n",
       "    <tr style=\"text-align: right;\">\n",
       "      <th></th>\n",
       "      <th>PCODE</th>\n",
       "      <th>NAME</th>\n",
       "      <th>Date</th>\n",
       "      <th>barrel</th>\n",
       "    </tr>\n",
       "  </thead>\n",
       "  <tbody>\n",
       "    <tr>\n",
       "      <th>0</th>\n",
       "      <td>50054</td>\n",
       "      <td>천성호</td>\n",
       "      <td>20200603</td>\n",
       "      <td>0</td>\n",
       "    </tr>\n",
       "    <tr>\n",
       "      <th>1</th>\n",
       "      <td>50054</td>\n",
       "      <td>천성호</td>\n",
       "      <td>20200604</td>\n",
       "      <td>0</td>\n",
       "    </tr>\n",
       "    <tr>\n",
       "      <th>2</th>\n",
       "      <td>50054</td>\n",
       "      <td>천성호</td>\n",
       "      <td>20200607</td>\n",
       "      <td>0</td>\n",
       "    </tr>\n",
       "    <tr>\n",
       "      <th>3</th>\n",
       "      <td>50054</td>\n",
       "      <td>천성호</td>\n",
       "      <td>20200611</td>\n",
       "      <td>0</td>\n",
       "    </tr>\n",
       "    <tr>\n",
       "      <th>4</th>\n",
       "      <td>50054</td>\n",
       "      <td>천성호</td>\n",
       "      <td>20200613</td>\n",
       "      <td>0</td>\n",
       "    </tr>\n",
       "    <tr>\n",
       "      <th>...</th>\n",
       "      <td>...</td>\n",
       "      <td>...</td>\n",
       "      <td>...</td>\n",
       "      <td>...</td>\n",
       "    </tr>\n",
       "    <tr>\n",
       "      <th>49665</th>\n",
       "      <td>99810</td>\n",
       "      <td>이진영</td>\n",
       "      <td>20181006</td>\n",
       "      <td>0</td>\n",
       "    </tr>\n",
       "    <tr>\n",
       "      <th>49666</th>\n",
       "      <td>99810</td>\n",
       "      <td>이진영</td>\n",
       "      <td>20181009</td>\n",
       "      <td>0</td>\n",
       "    </tr>\n",
       "    <tr>\n",
       "      <th>49667</th>\n",
       "      <td>99810</td>\n",
       "      <td>이진영</td>\n",
       "      <td>20181010</td>\n",
       "      <td>1</td>\n",
       "    </tr>\n",
       "    <tr>\n",
       "      <th>49668</th>\n",
       "      <td>99810</td>\n",
       "      <td>이진영</td>\n",
       "      <td>20181012</td>\n",
       "      <td>2</td>\n",
       "    </tr>\n",
       "    <tr>\n",
       "      <th>49669</th>\n",
       "      <td>99810</td>\n",
       "      <td>이진영</td>\n",
       "      <td>20181013</td>\n",
       "      <td>0</td>\n",
       "    </tr>\n",
       "  </tbody>\n",
       "</table>\n",
       "<p>49670 rows × 4 columns</p>\n",
       "</div>"
      ],
      "text/plain": [
       "       PCODE NAME      Date  barrel\n",
       "0      50054  천성호  20200603       0\n",
       "1      50054  천성호  20200604       0\n",
       "2      50054  천성호  20200607       0\n",
       "3      50054  천성호  20200611       0\n",
       "4      50054  천성호  20200613       0\n",
       "...      ...  ...       ...     ...\n",
       "49665  99810  이진영  20181006       0\n",
       "49666  99810  이진영  20181009       0\n",
       "49667  99810  이진영  20181010       1\n",
       "49668  99810  이진영  20181012       2\n",
       "49669  99810  이진영  20181013       0\n",
       "\n",
       "[49670 rows x 4 columns]"
      ]
     },
     "execution_count": 96,
     "metadata": {},
     "output_type": "execute_result"
    }
   ],
   "source": [
    "df5_barrel = df5.groupby(['PCODE', 'NAME','Date']).sum().reset_index()\n",
    "df5_barrel"
   ]
  },
  {
   "cell_type": "code",
   "execution_count": 97,
   "metadata": {},
   "outputs": [],
   "source": [
    "#결측치를 채우기 위해 {PCODE : 이름} dict 생성 \n",
    "pcode_dict = dict(df5.drop_duplicates(subset=['PCODE', 'NAME']).iloc[:, :2].values)\n",
    "#동명이인 반영\n",
    "pcode_dict[64717] = '지성준'\n",
    "pcode_dict[62895] = '한동민'\n",
    "pcode_dict[63559] = '백민기'"
   ]
  },
  {
   "cell_type": "code",
   "execution_count": 98,
   "metadata": {},
   "outputs": [],
   "source": [
    "pcode_dict = {name : key for key, name in pcode_dict.items()}\n",
    "pcode_dict['지시완'] = 64171\n",
    "pcode_dict['한유섬'] = 62895\n",
    "pcode_dict['백동훈'] = 63559"
   ]
  },
  {
   "cell_type": "code",
   "execution_count": 99,
   "metadata": {},
   "outputs": [],
   "source": [
    "df = df.rename(columns={'이름':'NAME'})"
   ]
  },
  {
   "cell_type": "code",
   "execution_count": 100,
   "metadata": {},
   "outputs": [],
   "source": [
    "#날짜별 배럴타구 개수 데이터를 기존 월별 선수 성적 데이터에 MERGE\n",
    "df_merge = df.merge(df5_barrel, how='left', on=[\"NAME\", \"Date\"])"
   ]
  },
  {
   "cell_type": "code",
   "execution_count": 101,
   "metadata": {},
   "outputs": [
    {
     "data": {
      "text/plain": [
       "63452"
      ]
     },
     "execution_count": 101,
     "metadata": {},
     "output_type": "execute_result"
    }
   ],
   "source": [
    "len(df)"
   ]
  },
  {
   "cell_type": "code",
   "execution_count": 102,
   "metadata": {},
   "outputs": [
    {
     "data": {
      "text/plain": [
       "63457"
      ]
     },
     "execution_count": 102,
     "metadata": {},
     "output_type": "execute_result"
    }
   ],
   "source": [
    "len(df_merge)"
   ]
  },
  {
   "cell_type": "code",
   "execution_count": 103,
   "metadata": {},
   "outputs": [],
   "source": [
    "#동명이인으로 추정되는 이재원이 등장하므로 제거\n",
    "df_merge = df_merge[~(df_merge['PCODE'] == 68106)]"
   ]
  },
  {
   "cell_type": "code",
   "execution_count": 104,
   "metadata": {},
   "outputs": [
    {
     "data": {
      "text/plain": [
       "63452"
      ]
     },
     "execution_count": 104,
     "metadata": {},
     "output_type": "execute_result"
    }
   ],
   "source": [
    "len(df_merge)"
   ]
  },
  {
   "cell_type": "code",
   "execution_count": 105,
   "metadata": {},
   "outputs": [],
   "source": [
    "#MERGE시에 해당 경기 타구가 없는 선수의 경우 PCODE가 누락되므로 채워줌\n",
    "for name, pcode in pcode_dict.items():\n",
    "    idx = df_merge[df_merge['NAME'] == name].index\n",
    "    df_merge.loc[idx, \"PCODE\"] = pcode"
   ]
  },
  {
   "cell_type": "code",
   "execution_count": 106,
   "metadata": {},
   "outputs": [],
   "source": [
    "#마찬가지로 해당 경기에 타구가 없다면 barrel 타구가 none이 들어가므로 0으로 채우기\n",
    "null_idx = df_merge[df_merge['Date'].apply(lambda x : (x <= '20210711')) & df_merge[\"barrel\"].isnull()].index\n",
    "df_merge.loc[null_idx, 'barrel'] = 0"
   ]
  },
  {
   "cell_type": "code",
   "execution_count": 107,
   "metadata": {},
   "outputs": [
    {
     "data": {
      "text/html": [
       "<div>\n",
       "<style scoped>\n",
       "    .dataframe tbody tr th:only-of-type {\n",
       "        vertical-align: middle;\n",
       "    }\n",
       "\n",
       "    .dataframe tbody tr th {\n",
       "        vertical-align: top;\n",
       "    }\n",
       "\n",
       "    .dataframe thead th {\n",
       "        text-align: right;\n",
       "    }\n",
       "</style>\n",
       "<table border=\"1\" class=\"dataframe\">\n",
       "  <thead>\n",
       "    <tr style=\"text-align: right;\">\n",
       "      <th></th>\n",
       "      <th>NAME</th>\n",
       "      <th>날짜</th>\n",
       "      <th>상대</th>\n",
       "      <th>결과</th>\n",
       "      <th>점수</th>\n",
       "      <th>타순</th>\n",
       "      <th>P</th>\n",
       "      <th>선발</th>\n",
       "      <th>타수</th>\n",
       "      <th>득점</th>\n",
       "      <th>...</th>\n",
       "      <th>장타</th>\n",
       "      <th>OPS</th>\n",
       "      <th>투구</th>\n",
       "      <th>avLI</th>\n",
       "      <th>RE24</th>\n",
       "      <th>WPA</th>\n",
       "      <th>year</th>\n",
       "      <th>Date</th>\n",
       "      <th>PCODE</th>\n",
       "      <th>barrel</th>\n",
       "    </tr>\n",
       "  </thead>\n",
       "  <tbody>\n",
       "  </tbody>\n",
       "</table>\n",
       "<p>0 rows × 37 columns</p>\n",
       "</div>"
      ],
      "text/plain": [
       "Empty DataFrame\n",
       "Columns: [NAME, 날짜, 상대, 결과, 점수, 타순, P, 선발, 타수, 득점, 안타, 2타, 3타, 홈런, 루타, 타점, 도루, 도실, 볼넷, 사구, 고4, 삼진, 병살, 희타, 희비, 타율, 출루, 장타, OPS, 투구, avLI, RE24, WPA, year, Date, PCODE, barrel]\n",
       "Index: []\n",
       "\n",
       "[0 rows x 37 columns]"
      ]
     },
     "execution_count": 107,
     "metadata": {},
     "output_type": "execute_result"
    }
   ],
   "source": [
    "df_merge[df_merge['PCODE'].isnull()]"
   ]
  },
  {
   "cell_type": "code",
   "execution_count": 95,
   "metadata": {},
   "outputs": [],
   "source": [
    "df_merge.to_csv('../../dataset/total_baseball_PCODE&배럴타구추가.csv', index=False, \n",
    "                encoding='utf-8-sig')"
   ]
  },
  {
   "cell_type": "code",
   "execution_count": null,
   "metadata": {},
   "outputs": [],
   "source": []
  }
 ],
 "metadata": {
  "interpreter": {
   "hash": "eb0b7aa54a4c3414319ae66f106c79109b5c1406a9dfd32a9fe528b308d66c65"
  },
  "kernelspec": {
   "display_name": "Python 3",
   "language": "python",
   "name": "python3"
  },
  "language_info": {
   "codemirror_mode": {
    "name": "ipython",
    "version": 3
   },
   "file_extension": ".py",
   "mimetype": "text/x-python",
   "name": "python",
   "nbconvert_exporter": "python",
   "pygments_lexer": "ipython3",
   "version": "3.8.5"
  }
 },
 "nbformat": 4,
 "nbformat_minor": 2
}

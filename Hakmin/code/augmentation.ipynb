{
 "cells": [
  {
   "cell_type": "code",
   "execution_count": 3,
   "source": [
    "import smogn\n",
    "import pandas as pd"
   ],
   "outputs": [],
   "metadata": {}
  },
  {
   "cell_type": "code",
   "execution_count": 7,
   "source": [
    "df = pd.read_csv('../../dataset/baseball_train_final4.csv')\n",
    "df_longhit = df.iloc[:, 3:-2]\n",
    "df_onbase = pd.concat([df.iloc[:, 3:-3], df.iloc[:,-2]], axis=1)"
   ],
   "outputs": [],
   "metadata": {}
  },
  {
   "cell_type": "code",
   "execution_count": 17,
   "source": [
    "def oversampling_smogan(df, num):\n",
    "    os_list = [smogn.smoter(df_longhit, y=\"장타\", k = i+2) for i in range(num)]\n",
    "    return pd.concat(os_list)"
   ],
   "outputs": [],
   "metadata": {}
  },
  {
   "cell_type": "code",
   "execution_count": 20,
   "source": [
    "baseball_longhit_smogn = oversampling_smogan(df_longhit, 5)"
   ],
   "outputs": [
    {
     "output_type": "stream",
     "name": "stderr",
     "text": [
      "dist_matrix: 100%|##########| 399/399 [02:18<00:00,  2.89it/s]\n",
      "synth_matrix: 100%|##########| 399/399 [00:09<00:00, 44.07it/s]\n",
      "r_index: 100%|##########| 52/52 [00:00<00:00, 174.36it/s]\n",
      "dist_matrix: 100%|##########| 399/399 [02:19<00:00,  2.85it/s]\n",
      "synth_matrix: 100%|##########| 399/399 [00:07<00:00, 54.23it/s]\n",
      "r_index: 100%|##########| 52/52 [00:00<00:00, 206.21it/s]\n",
      "dist_matrix: 100%|##########| 399/399 [02:18<00:00,  2.88it/s]\n",
      "synth_matrix: 100%|##########| 399/399 [00:08<00:00, 47.56it/s]\n",
      "r_index: 100%|##########| 52/52 [00:00<00:00, 189.24it/s]\n",
      "dist_matrix: 100%|##########| 399/399 [02:22<00:00,  2.80it/s]\n",
      "synth_matrix: 100%|##########| 399/399 [00:06<00:00, 64.56it/s]\n",
      "r_index: 100%|##########| 52/52 [00:00<00:00, 230.71it/s]\n",
      "dist_matrix: 100%|##########| 399/399 [02:46<00:00,  2.40it/s]\n",
      "synth_matrix: 100%|##########| 399/399 [00:10<00:00, 38.56it/s]\n",
      "r_index: 100%|##########| 52/52 [00:00<00:00, 143.58it/s]\n"
     ]
    }
   ],
   "metadata": {}
  },
  {
   "cell_type": "code",
   "execution_count": 23,
   "source": [
    "baseball_longhit_smogn = baseball_longhit_smogn.drop_duplicates()"
   ],
   "outputs": [],
   "metadata": {}
  },
  {
   "cell_type": "code",
   "execution_count": null,
   "source": [
    "baseball_longhit_smogn = smogn.smoter(\n",
    "    data = df_longhit, \n",
    "    y = \"장타\",\n",
    "    k =  9,\n",
    "    samp_method = 'extreme',\n",
    ")"
   ],
   "outputs": [],
   "metadata": {}
  },
  {
   "cell_type": "code",
   "execution_count": null,
   "source": [],
   "outputs": [],
   "metadata": {}
  },
  {
   "cell_type": "code",
   "execution_count": 25,
   "source": [
    "baseball_longhit_smogn.to_csv('../../dataset/baseball_train_final5_longhit.csv', index=False)"
   ],
   "outputs": [],
   "metadata": {}
  },
  {
   "cell_type": "code",
   "execution_count": 58,
   "source": [
    "baseball_onbase_smogn = smogn.smoter(\n",
    "    data = df_onbase,\n",
    "    y = \"출루\",\n",
    "    k =  9,\n",
    "    samp_method = 'extreme'\n",
    ")"
   ],
   "outputs": [
    {
     "output_type": "stream",
     "name": "stderr",
     "text": [
      "dist_matrix: 100%|##########| 524/524 [03:28<00:00,  2.51it/s]\n",
      "synth_matrix: 100%|##########| 524/524 [00:07<00:00, 72.55it/s] \n",
      "dist_matrix: 100%|##########| 370/370 [01:44<00:00,  3.55it/s]\n",
      "synth_matrix: 100%|##########| 370/370 [00:09<00:00, 38.42it/s]\n",
      "r_index: 100%|##########| 36/36 [00:00<00:00, 114.12it/s]\n"
     ]
    }
   ],
   "metadata": {}
  },
  {
   "cell_type": "code",
   "execution_count": 59,
   "source": [
    "baseball_onbase_smogn.to_csv('../../dataset/baseball_train_final5_onbase.csv')"
   ],
   "outputs": [],
   "metadata": {}
  },
  {
   "cell_type": "markdown",
   "source": [],
   "metadata": {}
  },
  {
   "cell_type": "code",
   "execution_count": 6,
   "source": [
    "pd.read_csv('../../dataset/baseball_train_final5_onbase.csv)"
   ],
   "outputs": [
    {
     "output_type": "error",
     "ename": "SyntaxError",
     "evalue": "EOL while scanning string literal (1844660797.py, line 1)",
     "traceback": [
      "\u001b[0;36m  File \u001b[0;32m\"/tmp/ipykernel_177244/1844660797.py\"\u001b[0;36m, line \u001b[0;32m1\u001b[0m\n\u001b[0;31m    pd.read_csv('../../dataset/baseball_train_final5_onbase.csv)\u001b[0m\n\u001b[0m                                                                ^\u001b[0m\n\u001b[0;31mSyntaxError\u001b[0m\u001b[0;31m:\u001b[0m EOL while scanning string literal\n"
     ]
    }
   ],
   "metadata": {}
  },
  {
   "cell_type": "code",
   "execution_count": null,
   "source": [],
   "outputs": [],
   "metadata": {}
  }
 ],
 "metadata": {
  "orig_nbformat": 4,
  "language_info": {
   "name": "python",
   "version": "3.8.5",
   "mimetype": "text/x-python",
   "codemirror_mode": {
    "name": "ipython",
    "version": 3
   },
   "pygments_lexer": "ipython3",
   "nbconvert_exporter": "python",
   "file_extension": ".py"
  },
  "kernelspec": {
   "name": "python3",
   "display_name": "Python 3.8.5 64-bit ('bigcon_venv': venv)"
  },
  "interpreter": {
   "hash": "eb0b7aa54a4c3414319ae66f106c79109b5c1406a9dfd32a9fe528b308d66c65"
  }
 },
 "nbformat": 4,
 "nbformat_minor": 2
}
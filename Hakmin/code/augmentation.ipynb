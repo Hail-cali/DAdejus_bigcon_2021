{
 "cells": [
  {
   "cell_type": "code",
   "execution_count": 2,
   "source": [
    "import smogn\n",
    "import pandas as pd"
   ],
   "outputs": [],
   "metadata": {}
  },
  {
   "cell_type": "code",
   "execution_count": 47,
   "source": [
    "df = pd.read_csv('../../dataset/baseball_train_final4.csv')\n",
    "df_longhit = df.iloc[:, 3:-2]\n",
    "df_onbase = pd.concat([df.iloc[:, 3:-3], df.iloc[:,-2]], axis=1)"
   ],
   "outputs": [],
   "metadata": {}
  },
  {
   "cell_type": "code",
   "execution_count": 56,
   "source": [
    "baseball_longhit_smogn = smogn.smoter(\n",
    "    data = df_longhit, \n",
    "    y = \"장타\",\n",
    "    k =  9,\n",
    "    samp_method = 'extreme',\n",
    ")"
   ],
   "outputs": [
    {
     "output_type": "stream",
     "name": "stderr",
     "text": [
      "dist_matrix: 100%|##########| 399/399 [02:00<00:00,  3.30it/s]\n",
      "synth_matrix: 100%|##########| 399/399 [00:16<00:00, 24.10it/s]\n",
      "r_index: 100%|##########| 119/119 [00:00<00:00, 195.82it/s]\n"
     ]
    }
   ],
   "metadata": {}
  },
  {
   "cell_type": "code",
   "execution_count": 57,
   "source": [
    "baseball_longhit_smogn.to_csv('../../dataset/baseball_train_final5_longhit.csv')"
   ],
   "outputs": [],
   "metadata": {}
  },
  {
   "cell_type": "code",
   "execution_count": 58,
   "source": [
    "baseball_onbase_smogn = smogn.smoter(\n",
    "    data = df_onbase,\n",
    "    y = \"출루\",\n",
    "    k =  9,\n",
    "    samp_method = 'extreme'\n",
    ")"
   ],
   "outputs": [
    {
     "output_type": "stream",
     "name": "stderr",
     "text": [
      "dist_matrix: 100%|##########| 524/524 [03:28<00:00,  2.51it/s]\n",
      "synth_matrix: 100%|##########| 524/524 [00:07<00:00, 72.55it/s] \n",
      "dist_matrix: 100%|##########| 370/370 [01:44<00:00,  3.55it/s]\n",
      "synth_matrix: 100%|##########| 370/370 [00:09<00:00, 38.42it/s]\n",
      "r_index: 100%|##########| 36/36 [00:00<00:00, 114.12it/s]\n"
     ]
    }
   ],
   "metadata": {}
  },
  {
   "cell_type": "code",
   "execution_count": 59,
   "source": [
    "baseball_onbase_smogn.to_csv('../../dataset/baseball_train_final5_onbase.csv')"
   ],
   "outputs": [],
   "metadata": {}
  },
  {
   "cell_type": "markdown",
   "source": [],
   "metadata": {}
  },
  {
   "cell_type": "code",
   "execution_count": null,
   "source": [],
   "outputs": [],
   "metadata": {}
  }
 ],
 "metadata": {
  "orig_nbformat": 4,
  "language_info": {
   "name": "python",
   "version": "3.8.5",
   "mimetype": "text/x-python",
   "codemirror_mode": {
    "name": "ipython",
    "version": 3
   },
   "pygments_lexer": "ipython3",
   "nbconvert_exporter": "python",
   "file_extension": ".py"
  },
  "kernelspec": {
   "name": "python3",
   "display_name": "Python 3.8.5 64-bit ('bigcon_venv': venv)"
  },
  "interpreter": {
   "hash": "eb0b7aa54a4c3414319ae66f106c79109b5c1406a9dfd32a9fe528b308d66c65"
  }
 },
 "nbformat": 4,
 "nbformat_minor": 2
}